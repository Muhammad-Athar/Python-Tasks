{
  "cells": [
    {
      "cell_type": "markdown",
      "metadata": {
        "id": "view-in-github",
        "colab_type": "text"
      },
      "source": [
        "<a href=\"https://colab.research.google.com/github/Muhammad-Athar/Python-Tasks/blob/main/CAP_Practical_2.ipynb\" target=\"_parent\"><img src=\"https://colab.research.google.com/assets/colab-badge.svg\" alt=\"Open In Colab\"/></a>"
      ]
    },
    {
      "cell_type": "markdown",
      "metadata": {
        "id": "6nkycUFbQ5Dm"
      },
      "source": [
        "# Unit 2\n",
        "Notebook version: v1.2.1"
      ]
    },
    {
      "cell_type": "code",
      "execution_count": null,
      "metadata": {
        "id": "W8iIxouSQ5Dn"
      },
      "outputs": [],
      "source": [
        "import numpy as np\n",
        "import random\n",
        "import time"
      ]
    },
    {
      "cell_type": "markdown",
      "metadata": {
        "id": "_eE7liYzQ5Dn"
      },
      "source": [
        "## Task 1"
      ]
    },
    {
      "cell_type": "markdown",
      "metadata": {
        "id": "3z8rs1_aQ5Do"
      },
      "source": [
        "### b.\tThe factorial of a number n, denoted as n!, is the product of all positive integers less than or equal to n. It is calculated as 1 * 2 * 3 * ... * (n-1) * n. For instance, the factorial of 5 (written as 5!) would be 1 * 2 * 3 * 4 * 5, which equals 120. Also, 1! = 1, 0! = 1.\n",
        "Write a program to calculate factorial of a number.\n",
        "\n",
        "Source: [https://www.codesdope.com/practice/python-while/]"
      ]
    },
    {
      "cell_type": "code",
      "execution_count": 5,
      "metadata": {
        "id": "-Pdv5qaJQ5Do"
      },
      "outputs": [],
      "source": [
        "# Define a function to calculate the factorial of a given number using a loop\n",
        "    # Initialize a variable to store the factorial result, starting with 1\n",
        "    # Check if the input number is 0\n",
        "        # Return 1, since 0! is 1\n",
        "\n",
        "    # Otherwise, begin a while loop to calculate the factorial\n",
        "        # Multiply the factorial result by the current number\n",
        "        # Decrement the number by 1\n",
        "\n",
        "    # Return the calculated factorial result\n",
        "\n",
        "\n",
        "def factorial_loop(n):\n",
        "    factorial = 1\n",
        "    if n == 0:\n",
        "        return 1\n",
        "    else:\n",
        "        while n > 0:\n",
        "            factorial *= n\n",
        "            n -= 1\n",
        "        return factorial\n"
      ]
    },
    {
      "cell_type": "code",
      "execution_count": 9,
      "metadata": {
        "colab": {
          "base_uri": "https://localhost:8080/"
        },
        "id": "3FDQKArWQ5Do",
        "outputId": "0f8a917c-de4d-4259-dd0d-b863e209de9c"
      },
      "outputs": [
        {
          "output_type": "stream",
          "name": "stdout",
          "text": [
            "Enter a number: \n",
            "The factorial of 5 is 120\n"
          ]
        }
      ],
      "source": [
        "# Print a prompt asking the user to enter a number\n",
        "\n",
        "# Simulate user input by assigning a value to the variable\n",
        "\n",
        "# Call the factorial function with the input number and store the result\n",
        "\n",
        "# Print the factorial result with a descriptive message\n",
        "\n",
        "\n",
        "print(\"Enter a number: \")\n",
        "\n",
        "number = 5\n",
        "\n",
        "result = factorial_loop(number)\n",
        "\n",
        "print(f\"The factorial of {number} is {result}\")\n"
      ]
    },
    {
      "cell_type": "code",
      "execution_count": 10,
      "metadata": {
        "colab": {
          "base_uri": "https://localhost:8080/"
        },
        "id": "GFOo80OaQ5Dp",
        "outputId": "61f62cf6-9d5a-471f-b018-fe4dd0574265"
      },
      "outputs": [
        {
          "output_type": "stream",
          "name": "stdout",
          "text": [
            "The factorial of 5 (recursive) is 120\n"
          ]
        }
      ],
      "source": [
        "# Define a function to calculate the factorial of a given number using recursion\n",
        "\n",
        "    # Check if the input number is 0\n",
        "        # Return 1, since 0! is 1\n",
        "\n",
        "    # Otherwise, return the product of the current number and the factorial of the number minus one\n",
        "\n",
        "# Print the factorial result for a specified number using the recursive function with a descriptive message\n",
        "\n",
        "def factorial_recursive(n):\n",
        "    if n == 0:\n",
        "        return 1\n",
        "    else:\n",
        "        return n * factorial_recursive(n - 1)\n",
        "\n",
        "number = 5\n",
        "result = factorial_recursive(number)\n",
        "print(f\"The factorial of {number} (recursive) is {result}\")\n"
      ]
    },
    {
      "cell_type": "code",
      "execution_count": 11,
      "metadata": {
        "colab": {
          "base_uri": "https://localhost:8080/"
        },
        "id": "LsuX3r6SQ5Dp",
        "outputId": "e89c8273-7013-4df6-d5aa-893f5f531e78"
      },
      "outputs": [
        {
          "output_type": "stream",
          "name": "stdout",
          "text": [
            "Recursion will proceed with 4\n",
            "Recursion will proceed with 3\n",
            "Recursion will proceed with 2\n",
            "Recursion will proceed with 1\n",
            "Recursion will proceed with 0\n",
            "Base case reached, returning 1\n",
            "Result for 0 received. Performing multiplication.\n",
            "Result for 1 received. Performing multiplication.\n",
            "Result for 2 received. Performing multiplication.\n",
            "Result for 3 received. Performing multiplication.\n",
            "Result for 4 received. Performing multiplication.\n",
            "The factorial of 5 (recursive with debug prints) is 120\n"
          ]
        }
      ],
      "source": [
        "# Define a function to calculate the factorial of a given number with debug prints using recursion\n",
        "\n",
        "    # Check if the input number is 0\n",
        "        # Print a message indicating the base case is reached and a return value of 1\n",
        "        # Return 1, since 0! is 1\n",
        "\n",
        "    # Otherwise, print a message indicating that recursion will proceed with n-1\n",
        "    # Recursively call the function to calculate the factorial of n-1 and store the result\n",
        "\n",
        "    # Print a message indicating the result for n-1 is received and the multiplication will be performed\n",
        "    # Return the product of the current number and the result from the recursive call\n",
        "\n",
        "# Call the function with a specified number and store the result\n",
        "\n",
        "# Print the factorial result using the function with a descriptive message\n",
        "\n",
        "def factorial_recursive_debug(n):\n",
        "    if n == 0:\n",
        "        print(\"Base case reached, returning 1\")\n",
        "        return 1\n",
        "    else:\n",
        "        print(f\"Recursion will proceed with {n-1}\")\n",
        "        result = factorial_recursive_debug(n-1)\n",
        "        print(f\"Result for {n-1} received. Performing multiplication.\")\n",
        "        return n * result\n",
        "\n",
        "number = 5\n",
        "result = factorial_recursive_debug(number)\n",
        "print(f\"The factorial of {number} (recursive with debug prints) is {result}\")\n"
      ]
    },
    {
      "cell_type": "markdown",
      "metadata": {
        "id": "06Pi8qXBQ5Dp"
      },
      "source": [
        "### Task 2\n",
        "#### Given a list A of n random numbers and a number x:\n",
        "#### a. Write python code for  the linear search algorithm, return the index of x if x ∈ A or -1 if x ∉ A"
      ]
    },
    {
      "cell_type": "code",
      "execution_count": 12,
      "metadata": {
        "colab": {
          "base_uri": "https://localhost:8080/"
        },
        "id": "iD8kFuqCQ5Dp",
        "outputId": "9881ba45-ab2c-410d-9d0b-09cd3dbdff39"
      },
      "outputs": [
        {
          "output_type": "stream",
          "name": "stdout",
          "text": [
            "2  is present at index 8 in [4, 3, 10, 1, 9, 7, 8, 6, 2, 5]\n"
          ]
        }
      ],
      "source": [
        "A = [4, 3, 10, 1, 9, 7, 8, 6, 2, 5]\n",
        "x = 2\n",
        "def linear_search(x, A):\n",
        "    found = -1\n",
        "    for i in range(len(A)):\n",
        "        if A[i]==x:\n",
        "            found = 1\n",
        "            return i\n",
        "    if found==1:\n",
        "        return i\n",
        "    else:\n",
        "        return -1\n",
        "\n",
        "idx = linear_search(x,A)\n",
        "if linear_search(x,A) == -1:\n",
        "    print(x, \" is not present in \", A)\n",
        "else:\n",
        "    print(x, \" is present at index\", idx, \"in\", A)"
      ]
    },
    {
      "cell_type": "markdown",
      "metadata": {
        "id": "rT-ZWGNNQ5Dq"
      },
      "source": [
        "#### b.\tVisualise the execution of the code. [https://pythontutor.com/visualize.html]\n"
      ]
    },
    {
      "cell_type": "markdown",
      "metadata": {
        "id": "kRKY-K-NQ5Dq"
      },
      "source": [
        "#### c.\tCount the number of steps in terms of n"
      ]
    },
    {
      "cell_type": "code",
      "execution_count": 14,
      "metadata": {
        "colab": {
          "base_uri": "https://localhost:8080/"
        },
        "id": "SjCpZ89GQ5Dq",
        "outputId": "dfd3b116-e3a6-4cc3-94b6-a46e9786335e"
      },
      "outputs": [
        {
          "output_type": "stream",
          "name": "stdout",
          "text": [
            "2 is present at index 8 in the list [4, 3, 10, 1, 9, 7, 8, 6, 2, 5], steps taken = 9\n"
          ]
        }
      ],
      "source": [
        "# Define a function to perform a linear search with a step count on a list\n",
        "\n",
        "    # Initialize a variable to track if the element is found, set -1 for not found\n",
        "    # Initialize a counter for the number of steps taken\n",
        "\n",
        "    # Iterate over the list by index\n",
        "        # Check if the current element equals the target value\n",
        "            # Set the found marker to 1 to indicate the element is found\n",
        "            # Return a tuple of the current index and the step count\n",
        "\n",
        "        # Increment the step count\n",
        "\n",
        "    # Check if the element was found by evaluating the found marker\n",
        "        # If found, return a tuple of the index and the step count\n",
        "        # If not found, return -1 and the step count\n",
        "\n",
        "# Call the search function with a target value and a list, storing the result in variables\n",
        "\n",
        "# Check if the target is not found by the search function\n",
        "    # Print a message indicating the target is not present in the list\n",
        "\n",
        "# Otherwise, print the index where the target is found and the number of steps taken\n",
        "\n",
        "def linear_search_with_steps(x, A):\n",
        "    found = -1\n",
        "    steps = 0\n",
        "    for i in range(len(A)):\n",
        "        steps += 1\n",
        "        if A[i] == x:\n",
        "            found = 1\n",
        "            return i, steps\n",
        "\n",
        "    if found == 1:\n",
        "        return i, steps\n",
        "    else:\n",
        "        return -1, steps\n",
        "\n",
        "A = [4, 3, 10, 1, 9, 7, 8, 6, 2, 5]\n",
        "x = 2\n",
        "\n",
        "index, steps = linear_search_with_steps(x, A)\n",
        "\n",
        "if index == -1:\n",
        "    print(f\"{x} is not present in the list {A}\")\n",
        "else:\n",
        "    print(f\"{x} is present at index {index} in the list {A}, steps taken = {steps}\")\n"
      ]
    },
    {
      "cell_type": "markdown",
      "metadata": {
        "id": "DMaPTeWCQ5Dq"
      },
      "source": [
        "#### d. Can we use the linear search algorithm to find a given number x in a sorted list A?"
      ]
    },
    {
      "cell_type": "code",
      "execution_count": 15,
      "metadata": {
        "colab": {
          "base_uri": "https://localhost:8080/"
        },
        "id": "AkxP4stPQ5Dq",
        "outputId": "3cb0d3f6-befa-4a91-f816-c0b5a8d7ed59"
      },
      "outputs": [
        {
          "output_type": "stream",
          "name": "stdout",
          "text": [
            "2  is present at index 8 in [4, 3, 10, 1, 9, 7, 8, 6, 2, 5]\n"
          ]
        }
      ],
      "source": [
        "# Create a list of specified elements\n",
        "\n",
        "# Define the target value to search for in the list\n",
        "\n",
        "# Define a function to perform a linear search on a list\n",
        "\n",
        "    # Initialize a variable to track if the element is found, starting with 0 for not found\n",
        "\n",
        "    # Iterate over the list by index\n",
        "        # Check if the current element equals the target value\n",
        "            # Set the found marker to 1 to indicate the element is found\n",
        "            # Break out of the loop\n",
        "\n",
        "    # Check if the element was found by evaluating the found marker\n",
        "        # If found, return the current index\n",
        "        # If not found, return -1\n",
        "\n",
        "# Call the search function with the target and list, storing the result in a variable\n",
        "\n",
        "# Check if the target is not found using the returned index value\n",
        "    # Print a message indicating the target is not present in the list\n",
        "\n",
        "# Otherwise, print the index where the target is present in the list\n",
        "\n",
        "def linear_search(x, A):\n",
        "    found = 0\n",
        "    for i in range(len(A)):\n",
        "        if A[i] == x:\n",
        "            found = 1\n",
        "            break\n",
        "\n",
        "    if found:\n",
        "        return i\n",
        "    else:\n",
        "        return -1\n",
        "\n",
        "\n",
        "A = [4, 3, 10, 1, 9, 7, 8, 6, 2, 5]\n",
        "x = 2\n",
        "\n",
        "idx = linear_search(x, A)\n",
        "\n",
        "if idx == -1:\n",
        "    print(x, \" is not present in \", A)\n",
        "else:\n",
        "    print(x, \" is present at index\", idx, \"in\", A)\n"
      ]
    },
    {
      "cell_type": "markdown",
      "metadata": {
        "id": "nmSJt13vQ5Dq"
      },
      "source": [
        "•\tPracticing Python skills: can the code be simplified, so that the last if statement is not necessary?"
      ]
    },
    {
      "cell_type": "code",
      "execution_count": 16,
      "metadata": {
        "colab": {
          "base_uri": "https://localhost:8080/"
        },
        "id": "grdSxPvLQ5Dq",
        "outputId": "a0dec66e-c589-489f-f7a7-3549148511e4"
      },
      "outputs": [
        {
          "output_type": "stream",
          "name": "stdout",
          "text": [
            "2 is present at index 8 in the list.\n"
          ]
        }
      ],
      "source": [
        "# Define a simple function to perform a linear search on a list\n",
        "\n",
        "    # Iterate over the list by index\n",
        "        # Check if the current element equals the target value\n",
        "            # Return the current index if the target is found\n",
        "\n",
        "    # Return -1 if the target is not found after completing the iteration\n",
        "\n",
        "# Call the simple search function with the target and list, storing the result in a variable\n",
        "\n",
        "# Check if the target is not found using the returned index value\n",
        "    # Print a message indicating the target is not present in the list\n",
        "\n",
        "# Otherwise, print the index where the target is present in the list\n",
        "\n",
        "def simple_linear_search(target, data):\n",
        "    for index, value in enumerate(data):\n",
        "        if value == target:\n",
        "            return index\n",
        "    return -1\n",
        "\n",
        "target_value = 2\n",
        "data_list = [4, 3, 10, 1, 9, 7, 8, 6, 2, 5]\n",
        "\n",
        "result_index = simple_linear_search(target_value, data_list)\n",
        "\n",
        "if result_index == -1:\n",
        "    print(f\"{target_value} is not present in the list.\")\n",
        "else:\n",
        "    print(f\"{target_value} is present at index {result_index} in the list.\")\n"
      ]
    },
    {
      "cell_type": "markdown",
      "metadata": {
        "id": "5PjkcbCWQ5Dr"
      },
      "source": [
        "### Task 3\n",
        "#### Binary search: Can we do better? If the list is sorted?\n",
        "#### Given a sorted list A of n random numbers and a number x, use binary search to return the index of x, if x ∈ A or -1 if x ∉ A.\n",
        "#### a.\tWrite the following python code in your Jupyter note book."
      ]
    },
    {
      "cell_type": "code",
      "execution_count": null,
      "metadata": {
        "id": "BlVJ_VsWQ5Dr"
      },
      "outputs": [],
      "source": [
        "A = [25, 36, 43, 56, 60, 78, 81, 89, 93, 97, 99]\n",
        "x = 100\n",
        "def binary_search(x, A):\n",
        "    low = 0\n",
        "    high = len(A)-1\n",
        "    while (low <= high):\n",
        "        mid = (low+high) //2 #floor division\n",
        "        if A[mid] == x:\n",
        "            return mid\n",
        "        elif A[mid] > x:\n",
        "            high = mid-1\n",
        "        else:\n",
        "            low = mid+1\n",
        "    return -1\n",
        "\n",
        "\n",
        "idx = binary_search(x,A)\n",
        "if idx == -1:\n",
        "    print(x, \" is not present in \", A)\n",
        "else:\n",
        "    print(x, \" is present at index\", idx, \"in\", A)"
      ]
    },
    {
      "cell_type": "markdown",
      "metadata": {
        "id": "OidDxMrkQ5Dr"
      },
      "source": [
        "#### b.\tWrite Pseudo-code for binary search algorithm in your note book (with input(s) and output(s))."
      ]
    },
    {
      "cell_type": "markdown",
      "metadata": {
        "id": "1ULsAq2LQ5Dr"
      },
      "source": []
    },
    {
      "cell_type": "markdown",
      "metadata": {
        "id": "0LGI3tqeQ5Dr"
      },
      "source": [
        "#### c.\tVisualize execution of the code  https://pythontutor.com/visualize.html"
      ]
    },
    {
      "cell_type": "markdown",
      "metadata": {
        "id": "qYsqKq2_Q5Dr"
      },
      "source": [
        "#### d.\tHow long does it take on your computer to search an element in a large sorted list? Using the code below, report execution time for both linear and binary search algorithms. Which one is better?"
      ]
    },
    {
      "cell_type": "code",
      "execution_count": 17,
      "metadata": {
        "colab": {
          "base_uri": "https://localhost:8080/"
        },
        "id": "DHM7pGliQ5Dr",
        "outputId": "fa78f7cb-e446-4d56-d053-d64df9381661"
      },
      "outputs": [
        {
          "output_type": "execute_result",
          "data": {
            "text/plain": [
              "array([      0,       1,       2, ..., 9999997, 9999998, 9999999])"
            ]
          },
          "metadata": {},
          "execution_count": 17
        }
      ],
      "source": [
        "import time\n",
        "import numpy as np\n",
        "A = np.arange(10000000)\n",
        "A"
      ]
    },
    {
      "cell_type": "code",
      "execution_count": 18,
      "metadata": {
        "colab": {
          "base_uri": "https://localhost:8080/"
        },
        "id": "VUDQVMp6Q5Dr",
        "outputId": "4633ec24-a318-4238-931a-4b65bc8323af"
      },
      "outputs": [
        {
          "output_type": "stream",
          "name": "stdout",
          "text": [
            "On this computer it takes  2.1470835208892822  sec to search a number in a sorted list of 10 million numbers\n"
          ]
        }
      ],
      "source": [
        "begin = time.time()\n",
        "linear_search(-1, A)\n",
        "end = time.time()\n",
        "exec_time = end - begin\n",
        "print(\"On this computer it takes \", exec_time, \" sec to search a number in a sorted list of 10 million numbers\")"
      ]
    },
    {
      "cell_type": "code",
      "execution_count": null,
      "metadata": {
        "id": "tCzcfoNvQ5Ds"
      },
      "outputs": [],
      "source": [
        "begin = time.time()\n",
        "binary_search(-1, A)\n",
        "end = time.time()\n",
        "exec_time = end - begin\n",
        "print(\"On this computer it takes \", exec_time, \" sec to search a number in a sorted list of 10 million numbers\")"
      ]
    },
    {
      "cell_type": "code",
      "execution_count": null,
      "metadata": {
        "collapsed": true,
        "id": "h2QXjnkFQ5Ds"
      },
      "outputs": [],
      "source": [
        "print(\"Running computations multiple times.\")\n",
        "\n",
        "def average_execution_time(func, total_trials=10):\n",
        "    execution_results = []\n",
        "    for k in range(total_trials):\n",
        "        begin = time.time()\n",
        "        func(-1, A)\n",
        "        end = time.time()\n",
        "        exec_time = end - begin\n",
        "        execution_results.append(exec_time)\n",
        "    return np.mean(execution_results)\n",
        "\n",
        "print(\"Linear search...\")\n",
        "average_linear_search = average_execution_time(linear_search)\n",
        "print(\"Binary search...\")\n",
        "average_binary_search = average_execution_time(binary_search)\n",
        "\n",
        "print(\"On this computer it takes on average\", average_linear_search, \" sec to search a number in a sorted list of 10 million numbers with linear search\")\n",
        "print(\"On this computer it takes on average\", average_binary_search, \" sec to search a number in a sorted list of 10 million numbers with binary search\")"
      ]
    },
    {
      "cell_type": "markdown",
      "metadata": {
        "id": "rlVkalVZQ5Ds"
      },
      "source": [
        "### Task 4\n",
        "#### Write an algorithm to add the first 10 numbers (Using for loop)."
      ]
    },
    {
      "cell_type": "markdown",
      "metadata": {
        "id": "kAwuHCSYQ5Ds"
      },
      "source": []
    },
    {
      "cell_type": "markdown",
      "metadata": {
        "id": "W6oiXkQbQ5Ds"
      },
      "source": [
        "#### a.\tReport the output for n = 50?"
      ]
    },
    {
      "cell_type": "markdown",
      "metadata": {
        "id": "I-m0JnYNQ5Ds"
      },
      "source": []
    },
    {
      "cell_type": "markdown",
      "metadata": {
        "id": "CoPFLd3FQ5Ds"
      },
      "source": [
        "#### b.\tReport runtime of the above algorithm in terms of n?"
      ]
    },
    {
      "cell_type": "code",
      "execution_count": 21,
      "metadata": {
        "colab": {
          "base_uri": "https://localhost:8080/"
        },
        "id": "CWWX2dRFQ5Ds",
        "outputId": "e1ed9588-d475-460f-aebc-18efe777834e"
      },
      "outputs": [
        {
          "output_type": "stream",
          "name": "stdout",
          "text": [
            "The cumulative sum of numbers from 1 to 10 is: 55\n"
          ]
        }
      ],
      "source": [
        "# Initialize a variable `num` with the value for the upper limit\n",
        "\n",
        "# Initialize a variable to store the cumulative sum, starting with 0\n",
        "\n",
        "# Iterate over the range from 1 to the specified number inclusive\n",
        "\n",
        "    # Add the current number to the cumulative sum\n",
        "\n",
        "# Print the cumulative sum after completing the iteration\n",
        "\n",
        "num = 10\n",
        "cumulative_sum = 0\n",
        "\n",
        "for i in range(1, num + 1):\n",
        "    cumulative_sum += i\n",
        "\n",
        "print(f\"The cumulative sum of numbers from 1 to {num} is: {cumulative_sum}\")\n"
      ]
    },
    {
      "cell_type": "markdown",
      "metadata": {
        "id": "HXZB3supQ5Ds"
      },
      "source": [
        "### Task 5\n",
        "#### Now write a recursive algorithm for adding the first n numbers. Recall from the lecture that a recessive algorithm must\n",
        "* call itself, recursively.\n",
        "* have a base case.\n",
        "* change its state and move toward the base case.\n",
        "#### a.\tWrite the code in your Jupyter note book and report the output.\n"
      ]
    },
    {
      "cell_type": "code",
      "execution_count": null,
      "metadata": {
        "id": "JMdjsVd8Q5Ds"
      },
      "outputs": [],
      "source": [
        "def add_numbers_upto(num):\n",
        "    if(num>0):\n",
        "        result = num + add_numbers_upto(num - 1)\n",
        "    else:\n",
        "        result = 0\n",
        "    return result\n",
        "\n",
        "add_numbers_upto(50)"
      ]
    },
    {
      "cell_type": "markdown",
      "metadata": {
        "id": "sEF9cUCsQ5Dt"
      },
      "source": [
        "#### b. \tWrite pseudo-code in your notebook for the given python code."
      ]
    },
    {
      "cell_type": "markdown",
      "metadata": {
        "id": "Jv1qYD8kQ5Dt"
      },
      "source": []
    },
    {
      "cell_type": "markdown",
      "metadata": {
        "id": "PrkJNDtQQ5Dt"
      },
      "source": [
        "#### c.\tIdentify the base case, the recursive call and state change in the python code.\n",
        "- The base case is in the \"else\" part of the code\n",
        "- recursive call is in the \"if(num>0)\" part of the code\n",
        "- state change is happening just before the recursive call"
      ]
    },
    {
      "cell_type": "markdown",
      "metadata": {
        "id": "aCZQdM8kQ5Dt"
      },
      "source": []
    },
    {
      "cell_type": "markdown",
      "metadata": {
        "id": "6AD1cP0MQ5D1"
      },
      "source": [
        "#### d.\tIf you need to add the first 1million number which algorithm would you prefer? Recursive or repetitive (for loop)."
      ]
    },
    {
      "cell_type": "markdown",
      "metadata": {
        "id": "mzRGUPjKQ5D2"
      },
      "source": []
    },
    {
      "cell_type": "markdown",
      "metadata": {
        "id": "X-MsoBrgQ5D2"
      },
      "source": [
        "### Task 6\n",
        "#### Given two sorted lists left and right, merge them using the following python code"
      ]
    },
    {
      "cell_type": "code",
      "execution_count": 23,
      "metadata": {
        "id": "dBGIzalDQ5D2"
      },
      "outputs": [],
      "source": [
        "def merge(left, right):\n",
        "    l = len(left)\n",
        "    r = len(right)\n",
        "    left_index = 0\n",
        "    right_index = 0\n",
        "    sorted_list = []\n",
        "    while (left_index < l and right_index < r):\n",
        "        if left[left_index] < right[right_index]:\n",
        "            sorted_list.append(left[left_index])\n",
        "            left_index += 1\n",
        "        else:\n",
        "            sorted_list.append(right[right_index])\n",
        "            right_index += 1\n",
        "    #print(sorted_list + left[left_index:] + right[right_index:])\n",
        "    return sorted_list + left[left_index:] + right[right_index:]"
      ]
    },
    {
      "cell_type": "markdown",
      "metadata": {
        "id": "OMNimjObQ5D2"
      },
      "source": [
        "#### a.\tWrite the python code in your Jupyter Notebook and merge the following two sorted list.\n",
        "Left = [-24, -13, 0, 12, 50]\n",
        "\n",
        "Right = [45, 55, 65, 75, 85]"
      ]
    },
    {
      "cell_type": "code",
      "execution_count": 24,
      "metadata": {
        "colab": {
          "base_uri": "https://localhost:8080/"
        },
        "id": "-MufaSRAQ5D2",
        "outputId": "24ef0e3d-efed-4b67-ef82-fa8ee2416eb7"
      },
      "outputs": [
        {
          "output_type": "execute_result",
          "data": {
            "text/plain": [
              "[0, 1, 2, 3, 4, 5, 5, 6, 7, 7, 8, 9, 10]"
            ]
          },
          "metadata": {},
          "execution_count": 24
        }
      ],
      "source": [
        "left = [1,2,5,7]\n",
        "right = [0,3,4,5,6,7,8,9,10]\n",
        "merge(left, right)"
      ]
    },
    {
      "cell_type": "markdown",
      "metadata": {
        "id": "r1M5guBeQ5D2"
      },
      "source": [
        "•\tWhy do we want the left index to be smaller than “l”? Can we change it to less or equal without affecting the results (try to answer the question without trying it in the code- this way you are practising critical thinking about the code)"
      ]
    },
    {
      "cell_type": "markdown",
      "metadata": {
        "id": "0OxNjf59Q5D2"
      },
      "source": []
    },
    {
      "cell_type": "markdown",
      "metadata": {
        "id": "Sw40xnCYQ5D3"
      },
      "source": [
        "•\tCan the while loop be simplified by simply writing “(left_index+right_index) < (r+l)”? Why/why not?"
      ]
    },
    {
      "cell_type": "markdown",
      "metadata": {
        "id": "fqyss2XGQ5D3"
      },
      "source": []
    },
    {
      "cell_type": "markdown",
      "metadata": {
        "id": "ah0lmDcvQ5D3"
      },
      "source": [
        "•\tWhat is the purpose of the condition in the if statement in the while loop? Can we change it to “left[left_index] > right[right_index]” (reversed comparison) and achieve the same results? If not, what other changes are required to make the code work (or is it impossible to have the algorithm work that way)?"
      ]
    },
    {
      "cell_type": "code",
      "execution_count": 25,
      "metadata": {
        "id": "kXlyHEk6Q5D3"
      },
      "outputs": [],
      "source": [
        "def merge2(left, right):\n",
        "    l = len(left)\n",
        "    r = len(right)\n",
        "    left_index = 0\n",
        "    right_index = 0\n",
        "    sorted_list = []\n",
        "    while (left_index < l and right_index < r):\n",
        "        if left[left_index] > right[right_index]:\n",
        "            sorted_list.append(right[right_index])\n",
        "            right_index += 1\n",
        "        else:\n",
        "            sorted_list.append(left[left_index])\n",
        "            left_index += 1\n",
        "\n",
        "    #print(sorted_list + left[left_index:] + right[right_index:])\n",
        "    return sorted_list + left[left_index:] + right[right_index:]"
      ]
    },
    {
      "cell_type": "code",
      "execution_count": 26,
      "metadata": {
        "colab": {
          "base_uri": "https://localhost:8080/"
        },
        "id": "O1zN8PfbQ5D3",
        "outputId": "eaacab2a-6544-4027-a358-1b7cb00951bb"
      },
      "outputs": [
        {
          "output_type": "stream",
          "name": "stdout",
          "text": [
            "Merging with modified code gives us the result: [0, 1, 2, 3, 4, 5, 5, 6, 7, 7, 8, 9, 10]\n",
            "Is it the same as for the other version:  True\n"
          ]
        }
      ],
      "source": [
        "print(\"Merging with modified code gives us the result:\", merge2(left, right))\n",
        "print(\"Is it the same as for the other version: \", merge(left, right)==merge2(left, right))"
      ]
    },
    {
      "cell_type": "markdown",
      "metadata": {
        "id": "UxOhL1AvQ5D3"
      },
      "source": [
        "#### b.\tWrite Pseudo-code in your notebook for merging two sorted lists."
      ]
    },
    {
      "cell_type": "markdown",
      "metadata": {
        "id": "W-q6QpvlQ5D3"
      },
      "source": []
    },
    {
      "cell_type": "markdown",
      "metadata": {
        "id": "DO5slU6jQ5D3"
      },
      "source": [
        "#### c.\tRecursively call the merge function to sort a given list A."
      ]
    },
    {
      "cell_type": "code",
      "execution_count": 27,
      "metadata": {
        "id": "m0_xg4-9Q5D3"
      },
      "outputs": [],
      "source": [
        "def merge_sort(A):\n",
        "    if len(A) == 1:\n",
        "        return A\n",
        "    else:\n",
        "        mid = len(A)//2 # floor division\n",
        "        left_list = A[:mid]\n",
        "        right_list = A[mid:]\n",
        "        return merge(merge_sort(left_list),merge_sort(right_list))"
      ]
    },
    {
      "cell_type": "code",
      "execution_count": 28,
      "metadata": {
        "colab": {
          "base_uri": "https://localhost:8080/"
        },
        "id": "L3y1fcQqQ5D4",
        "outputId": "8ea20246-147f-4944-90d0-0d298174cdf4"
      },
      "outputs": [
        {
          "output_type": "execute_result",
          "data": {
            "text/plain": [
              "[0, 2, 3, 5, 9, 10, 45]"
            ]
          },
          "metadata": {},
          "execution_count": 28
        }
      ],
      "source": [
        "A=[5,9,3,10,45,2,0]\n",
        "Sorted_A = merge_sort(A)\n",
        "Sorted_A"
      ]
    },
    {
      "cell_type": "markdown",
      "metadata": {
        "id": "wcfGWZSKQ5D4"
      },
      "source": [
        "#### d.\tIdentify the base case, the recursive call and state change in the above merge_sort function."
      ]
    },
    {
      "cell_type": "markdown",
      "metadata": {
        "id": "bir-bA1OQ5D4"
      },
      "source": []
    },
    {
      "cell_type": "markdown",
      "metadata": {
        "id": "bLzfUPa6Q5D4"
      },
      "source": [
        "### Task 7\n",
        "#### Given a list A, partition, the list in two halves such that elements on the left side are less than the pivot and the elements on the right are greater than pivot. Use the last element of the list as pivot."
      ]
    },
    {
      "cell_type": "code",
      "execution_count": null,
      "metadata": {
        "id": "6_i5gO8XQ5D4"
      },
      "outputs": [],
      "source": [
        "def partition(A, left, right):\n",
        "    smaller_index = left - 1\n",
        "    pivot = A[right]\n",
        "    for i in range(left, right):\n",
        "\n",
        "        if A[i] < pivot:\n",
        "            smaller_index += 1\n",
        "            A[smaller_index], A[i] = A[i], A[smaller_index]\n",
        "    A[smaller_index+1], A[right] = A[right], A[smaller_index+1]\n",
        "    print(A)\n",
        "    return (smaller_index+1)"
      ]
    },
    {
      "cell_type": "markdown",
      "metadata": {
        "id": "FA1FvGIoQ5D4"
      },
      "source": [
        "#### a.\tWrite the python code in your Jupyter note book  and partition the following list\n",
        "A = [0, 23, 45, 12 67, -24, -50, -15, 50]\n"
      ]
    },
    {
      "cell_type": "code",
      "execution_count": null,
      "metadata": {
        "id": "szXFOLAiQ5D4"
      },
      "outputs": [],
      "source": [
        "A=[5,9,3,10,45,2,6]\n",
        "print(A)\n",
        "pivot_index = partition(A, 0, len(A)-1)\n",
        "print(\"The pivot element\",A[3],\"has been moved to index\", pivot_index)"
      ]
    },
    {
      "cell_type": "markdown",
      "metadata": {
        "id": "y4xab53aQ5D5"
      },
      "source": [
        "#### b.\tWrite Pseudo-code in your note book for the partition algorithm."
      ]
    },
    {
      "cell_type": "markdown",
      "metadata": {
        "id": "5CsUnLkSQ5D5"
      },
      "source": []
    },
    {
      "cell_type": "markdown",
      "metadata": {
        "id": "_xS9gkVxQ5D5"
      },
      "source": [
        "#### c.\tRecursively call the partition function to sort a given list A."
      ]
    },
    {
      "cell_type": "code",
      "execution_count": null,
      "metadata": {
        "id": "1Kavs-blQ5D5"
      },
      "outputs": [],
      "source": [
        "def quick_sort(A, left, right):\n",
        "    if left < right:\n",
        "        partitioning_index = partition(A, left, right)\n",
        "        quick_sort(A,left,partitioning_index-1)\n",
        "        quick_sort(A,partitioning_index+1,right)"
      ]
    },
    {
      "cell_type": "code",
      "execution_count": null,
      "metadata": {
        "id": "WqCPwX8UQ5D5"
      },
      "outputs": [],
      "source": [
        "A=[5,9,3,10,45,2,6]\n",
        "quick_sort(A, 0, len(A)-1)"
      ]
    },
    {
      "cell_type": "code",
      "execution_count": null,
      "metadata": {
        "id": "ke5VJUbfQ5D5"
      },
      "outputs": [],
      "source": []
    },
    {
      "cell_type": "markdown",
      "metadata": {
        "id": "LjfBZVZOQ5D5"
      },
      "source": [
        "## Task 8.\n",
        "### A sorting algorithm is considered stable, if it maintains the relative order of numbers in the case of a tie.\n",
        "\n",
        "For example:   \n",
        "\n",
        "a) 1, 1, 4, 3, 2, 3\n",
        "\n",
        "if you don't change the order of those first two ones then your algorithm is stable, but if you swap them then it becomes unstable.\n",
        "\n",
        "b) 4, 2, 3, 4, 1\n",
        "\n",
        "the first number might be swapped with the last, which would change the order of \"4\", making it unstable\n",
        "\n",
        "---\n",
        "\n",
        "Which of the following sorting algorithms are stable?\n",
        "\n",
        "1.\tBubble Sort\n",
        "2.\tInsertion Sort\n",
        "3.\tSelection Sort\n"
      ]
    },
    {
      "cell_type": "code",
      "execution_count": 29,
      "metadata": {
        "id": "qrWB2xkMQ5D5"
      },
      "outputs": [],
      "source": [
        "# Let's imagine the list contains the grades and students names and we want to sort it by grade.\n",
        "testing_student_data = [(4, \"Student E\"),\n",
        "                        (2, \"Student B\"),\n",
        "                        (3, \"Student C\"),\n",
        "                        (4, \"Student D\"),\n",
        "                        (1, \"Student A\"), ]"
      ]
    },
    {
      "cell_type": "markdown",
      "metadata": {
        "id": "z7uD6VCdQ5D6"
      },
      "source": [
        "#### Below we have functions that we used in timing the code, with the adjustement that they are able to take in the list of tuples and sort the list by the first element in the tuple"
      ]
    },
    {
      "cell_type": "code",
      "execution_count": 30,
      "metadata": {
        "colab": {
          "base_uri": "https://localhost:8080/"
        },
        "id": "PZT9hxGbQ5D6",
        "outputId": "38340462-f13c-4bad-cfdc-e820ef8060b4"
      },
      "outputs": [
        {
          "output_type": "execute_result",
          "data": {
            "text/plain": [
              "[(1, 'Student A'),\n",
              " (2, 'Student B'),\n",
              " (3, 'Student C'),\n",
              " (4, 'Student E'),\n",
              " (4, 'Student D')]"
            ]
          },
          "metadata": {},
          "execution_count": 30
        }
      ],
      "source": [
        "def bubble_sort_list_of_tuples_v1(A):\n",
        "    for i in range(0,len(A)):\n",
        "        for j in range(len(A)-1, i, -1):\n",
        "            if A[j][0]< A[j-1][0]:\n",
        "                A[j], A[j-1] = A[j-1], A[j]\n",
        "\n",
        "student_scores1 = testing_student_data.copy()\n",
        "bubble_sort_list_of_tuples_v1(student_scores1)\n",
        "student_scores1"
      ]
    },
    {
      "cell_type": "code",
      "execution_count": 31,
      "metadata": {
        "colab": {
          "base_uri": "https://localhost:8080/"
        },
        "id": "sZCYsJ_AQ5D6",
        "outputId": "1a20cb33-b99d-445a-b7d3-284c7de98069"
      },
      "outputs": [
        {
          "output_type": "execute_result",
          "data": {
            "text/plain": [
              "[(1, 'Student A'),\n",
              " (2, 'Student B'),\n",
              " (3, 'Student C'),\n",
              " (4, 'Student E'),\n",
              " (4, 'Student D')]"
            ]
          },
          "metadata": {},
          "execution_count": 31
        }
      ],
      "source": [
        "# Define a function to perform bubble sort on a list of tuples based on the first element in each tuple\n",
        "\n",
        "    # Iterate over each element in the list by index\n",
        "        # Iterate over the list from the first element to the last unsorted element\n",
        "            # Check if the first element of the current tuple is greater than the first element of the next tuple\n",
        "                # Swap the current tuple with the next tuple if the condition is met\n",
        "\n",
        "# Create a copy of the list of tuples for testing\n",
        "\n",
        "# Call the bubble sort function with the copied list\n",
        "\n",
        "# Return the sorted list\n",
        "\n",
        "def bubble_sort_tuples(data):\n",
        "    n = len(data)\n",
        "    for i in range(n):\n",
        "        for j in range(0, n-i-1):\n",
        "            if data[j][0] > data[j+1][0]:\n",
        "                data[j], data[j+1] = data[j+1], data[j]\n",
        "    return data\n",
        "\n",
        "data_copy = testing_student_data.copy()\n",
        "\n",
        "sorted_data = bubble_sort_tuples(data_copy)\n",
        "\n",
        "sorted_data\n"
      ]
    },
    {
      "cell_type": "code",
      "execution_count": 32,
      "metadata": {
        "colab": {
          "base_uri": "https://localhost:8080/"
        },
        "id": "2aYl5DiOQ5D6",
        "outputId": "7128daf1-1494-4c9a-ecd2-bf781e4c4c75"
      },
      "outputs": [
        {
          "output_type": "execute_result",
          "data": {
            "text/plain": [
              "[(1, 'Student A'),\n",
              " (2, 'Student B'),\n",
              " (3, 'Student C'),\n",
              " (4, 'Student E'),\n",
              " (4, 'Student D')]"
            ]
          },
          "metadata": {},
          "execution_count": 32
        }
      ],
      "source": [
        "# Define a function to perform insertion sort on a list of tuples based on the first element in each tuple\n",
        "\n",
        "    # Iterate over the list starting from the second element\n",
        "\n",
        "        # Assign the current tuple to a variable `key`\n",
        "        # Initialize a variable `j` as the index of the element before the current\n",
        "\n",
        "        # Begin a while loop to determine the correct position for `key`\n",
        "            # Continue the loop as long as `j` is non-negative and the first element of the tuple at `j` is greater than `key`'s first element\n",
        "                # Move the tuple at `j` one position ahead\n",
        "                # Decrease `j` to continue checking previous elements\n",
        "\n",
        "        # Place `key` at its correct position\n",
        "\n",
        "# Create a copy of the list of tuples for testing\n",
        "\n",
        "# Call the insertion sort function with the copied list\n",
        "\n",
        "# Return the sorted list\n",
        "\n",
        "def insertion_sort_tuples(data):\n",
        "    for i in range(1, len(data)):\n",
        "        key = data[i]\n",
        "        j = i - 1\n",
        "        while j >= 0 and data[j][0] > key[0]:\n",
        "            data[j + 1] = data[j]\n",
        "            j -= 1\n",
        "        data[j + 1] = key\n",
        "    return data\n",
        "\n",
        "data_copy = testing_student_data.copy()\n",
        "sorted_data = insertion_sort_tuples(data_copy)\n",
        "sorted_data\n"
      ]
    },
    {
      "cell_type": "code",
      "execution_count": null,
      "metadata": {
        "id": "FMssumd1Q5D6"
      },
      "outputs": [],
      "source": [
        "def selection_sort_list_of_tuples(A):\n",
        "    for i in range(len(A)-1):\n",
        "        idx_min = i\n",
        "        for j in range(i+1, len(A)):\n",
        "            if A[j][0] < A[idx_min][0]:\n",
        "                idx_min = j\n",
        "        A[i], A[idx_min] = A[idx_min], A[i]\n",
        "\n",
        "student_scores4 = testing_student_data.copy()\n",
        "selection_sort_list_of_tuples(student_scores4)\n",
        "student_scores4"
      ]
    },
    {
      "cell_type": "markdown",
      "metadata": {
        "id": "b0ut9gSPQ5D6"
      },
      "source": [
        "Based on the results presented above, what can you tell about the stability of the sorting algorithms? Justify your answer."
      ]
    },
    {
      "cell_type": "markdown",
      "metadata": {
        "id": "AQ-AmG0hQ5D6"
      },
      "source": []
    },
    {
      "cell_type": "code",
      "execution_count": null,
      "metadata": {
        "id": "Hw-vO3-1Q5D6"
      },
      "outputs": [],
      "source": [
        "# Let's imagine the list contains the grades and students names and we want to sort it by grade.\n",
        "testing_student_data = [(4, \"Student E\"),\n",
        "                        (2, \"Student B\"),\n",
        "                        (3, \"Student C\"),\n",
        "                        (4, \"Student D\"),\n",
        "                        (1, \"Student A\"), ]"
      ]
    },
    {
      "cell_type": "markdown",
      "metadata": {
        "id": "3oFKBRykQ5D7"
      },
      "source": [
        "#### Below we have functions that we used in timing the code, with the adjustement that they are able to take in the list of tuples and sort the list by the first element in the tuple"
      ]
    },
    {
      "cell_type": "code",
      "execution_count": 33,
      "metadata": {
        "colab": {
          "base_uri": "https://localhost:8080/"
        },
        "id": "nvQ1wfnJQ5D7",
        "outputId": "c15edc0c-4eff-4e43-ec39-8a4bbf4b779d"
      },
      "outputs": [
        {
          "output_type": "execute_result",
          "data": {
            "text/plain": [
              "[(1, 'Student A'),\n",
              " (2, 'Student B'),\n",
              " (3, 'Student C'),\n",
              " (4, 'Student E'),\n",
              " (4, 'Student D')]"
            ]
          },
          "metadata": {},
          "execution_count": 33
        }
      ],
      "source": [
        "def bubble_sort_list_of_tuples_v1(A):\n",
        "    for i in range(0,len(A)):\n",
        "        for j in range(len(A)-1, i, -1):\n",
        "            if A[j][0]< A[j-1][0]:\n",
        "                A[j], A[j-1] = A[j-1], A[j]\n",
        "\n",
        "student_scores1 = testing_student_data.copy()\n",
        "bubble_sort_list_of_tuples_v1(student_scores1)\n",
        "student_scores1"
      ]
    },
    {
      "cell_type": "code",
      "execution_count": 34,
      "metadata": {
        "colab": {
          "base_uri": "https://localhost:8080/"
        },
        "id": "yKm6fIb3Q5D7",
        "outputId": "6ec652f4-829b-413e-a04b-04bb3ff8eaa1"
      },
      "outputs": [
        {
          "output_type": "execute_result",
          "data": {
            "text/plain": [
              "[(1, 'Student A'),\n",
              " (2, 'Student B'),\n",
              " (3, 'Student C'),\n",
              " (4, 'Student E'),\n",
              " (4, 'Student D')]"
            ]
          },
          "metadata": {},
          "execution_count": 34
        }
      ],
      "source": [
        "def bubble_sort_list_of_tuples_v2(A):\n",
        "    for i in range(0,len(A)):\n",
        "        for j in range (0, len(A)-1-i):\n",
        "            if A[j][0]> A[j+1][0]:\n",
        "                A[j], A[j+1] = A[j+1], A[j]\n",
        "\n",
        "student_scores2 = testing_student_data.copy()\n",
        "bubble_sort_list_of_tuples_v2(student_scores2)\n",
        "student_scores2"
      ]
    },
    {
      "cell_type": "code",
      "execution_count": 35,
      "metadata": {
        "colab": {
          "base_uri": "https://localhost:8080/"
        },
        "id": "YiKl9-r2Q5D7",
        "outputId": "05136815-80b1-4b54-a562-663eea1576b9"
      },
      "outputs": [
        {
          "output_type": "execute_result",
          "data": {
            "text/plain": [
              "[(1, 'Student A'),\n",
              " (2, 'Student B'),\n",
              " (3, 'Student C'),\n",
              " (4, 'Student E'),\n",
              " (4, 'Student D')]"
            ]
          },
          "metadata": {},
          "execution_count": 35
        }
      ],
      "source": [
        "def insertion_sort_list_of_tuples(A):\n",
        "    for i in range (1, len(A)):\n",
        "        key = A[i]\n",
        "        j = i-1\n",
        "        while j>=0 and A[j][0]>key[0]:\n",
        "            A[j+1] = A[j]\n",
        "            j= j-1\n",
        "        A[j+1] = key\n",
        "\n",
        "student_scores3 = testing_student_data.copy()\n",
        "insertion_sort_list_of_tuples(student_scores3)\n",
        "student_scores3"
      ]
    },
    {
      "cell_type": "code",
      "execution_count": 36,
      "metadata": {
        "colab": {
          "base_uri": "https://localhost:8080/"
        },
        "id": "m2NOpo4lQ5D7",
        "outputId": "0adaeed3-2ec9-45c8-ae51-b8c514cc112c"
      },
      "outputs": [
        {
          "output_type": "execute_result",
          "data": {
            "text/plain": [
              "[(1, 'Student A'),\n",
              " (2, 'Student B'),\n",
              " (3, 'Student C'),\n",
              " (4, 'Student D'),\n",
              " (4, 'Student E')]"
            ]
          },
          "metadata": {},
          "execution_count": 36
        }
      ],
      "source": [
        "def selection_sort_list_of_tuples(A):\n",
        "    for i in range(len(A)-1):\n",
        "        idx_min = i\n",
        "        for j in range(i+1, len(A)):\n",
        "            if A[j][0] < A[idx_min][0]:\n",
        "                idx_min = j\n",
        "        A[i], A[idx_min] = A[idx_min], A[i]\n",
        "\n",
        "student_scores4 = testing_student_data.copy()\n",
        "selection_sort_list_of_tuples(student_scores4)\n",
        "student_scores4"
      ]
    },
    {
      "cell_type": "markdown",
      "metadata": {
        "id": "JmRFdMuSQ5D7"
      },
      "source": [
        "Based on the results presented above, what can you tell about the stability of the sorting algorithms? Justify your answer."
      ]
    },
    {
      "cell_type": "markdown",
      "metadata": {
        "id": "kwS_fXMsQ5D7"
      },
      "source": []
    },
    {
      "cell_type": "code",
      "execution_count": null,
      "metadata": {
        "id": "r2twUc4iQ5D8"
      },
      "outputs": [],
      "source": []
    }
  ],
  "metadata": {
    "kernelspec": {
      "display_name": "Python 3 (ipykernel)",
      "language": "python",
      "name": "python3"
    },
    "language_info": {
      "codemirror_mode": {
        "name": "ipython",
        "version": 3
      },
      "file_extension": ".py",
      "mimetype": "text/x-python",
      "name": "python",
      "nbconvert_exporter": "python",
      "pygments_lexer": "ipython3",
      "version": "3.12.2"
    },
    "colab": {
      "provenance": [],
      "include_colab_link": true
    }
  },
  "nbformat": 4,
  "nbformat_minor": 0
}